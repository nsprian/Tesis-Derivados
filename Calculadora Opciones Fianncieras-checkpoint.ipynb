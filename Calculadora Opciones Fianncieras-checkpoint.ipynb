{
 "cells": [
  {
   "cell_type": "code",
   "execution_count": 16,
   "metadata": {},
   "outputs": [
    {
     "ename": "SyntaxError",
     "evalue": "invalid syntax (<ipython-input-16-39a2d8f8609e>, line 4)",
     "output_type": "error",
     "traceback": [
      "\u001b[1;36m  File \u001b[1;32m\"<ipython-input-16-39a2d8f8609e>\"\u001b[1;36m, line \u001b[1;32m4\u001b[0m\n\u001b[1;33m    pip install --upgrade pip\u001b[0m\n\u001b[1;37m        ^\u001b[0m\n\u001b[1;31mSyntaxError\u001b[0m\u001b[1;31m:\u001b[0m invalid syntax\n"
     ]
    }
   ],
   "source": [
    "import pandas as pd \n",
    "import numpy as np\n",
    "import yfinance as yf\n",
    "import scipy.stats as SS \n",
    "import quandl \n",
    "from alpha_vantage.timeseries import TimeSeries \n",
    "import matplotlib.pyplot as plt \n",
    "from numpy import sqrt, mean, log, diff \n",
    "import datetime\n",
    "from datetime import date \n",
    "from math import *\n",
    "from scipy import interpolate\n"
   ]
  },
  {
   "cell_type": "code",
   "execution_count": 17,
   "metadata": {},
   "outputs": [],
   "source": [
    "#Extracción de base historia del precio de la acción y la volatilidad del precio de la acción con el modelo GARCH\n",
    "def model_garch(activo,date):\n",
    "    precio=list(yf.download(activo,start=date,progress=0)['Close'])\n",
    "    r=rend(precio)\n",
    "    valor1= arch_model(r, mean='Zero', vol='GARCH', p=1, q=1)\n",
    "    valor2 = valor1.fit()\n",
    "    w,alfa,beta=list(model_fit.params)  \n",
    "    m=np.mean(returns)\n",
    "    historico=sum((np.array(r)-m)**2)/len(r)\n",
    "    result=(r[-1]-m)**2\n",
    "    return  sqrt(w+alfa*result+beta*historico)*sqrt(265)"
   ]
  },
  {
   "cell_type": "code",
   "execution_count": 18,
   "metadata": {},
   "outputs": [],
   "source": [
    "#Función de valoración\n",
    "def Opciones (X, activo, q, Type, dates, Tipo):\n",
    "    #Numero de nodos\n",
    "    N=100\n",
    "    #Obtener datos bursátiles en tiempo real \n",
    "    data, meta_data = ts.get_intraday (symbol=activo, interval='1min', outputsize='compact')\n",
    "    #Obtener el último valor de cierre\n",
    "    S0= data [\"4. close\"].iloc[-1]\n",
    "    print ('Precio del Subyacente {}'. format (S0))\n",
    "    #Tipo de interés (r)\n",
    "    reir[\"13 Wk Bank Discount Rate\"].iloc[-1]\n",
    "    print ('Tipo de interég {} %'.format (r))\n",
    "    r=r/100\n",
    "    table, meta = ts.get_daily(symbol=activo,outputsize='compact')\n",
    "    table ['Daily Return'] = table['4. cloge'].pct_change (1)\n",
    "    #Para anualizar nuestra volatilidad la tenemos que multiplicar por la raiz cuadrada\n",
    "    #de los 252 días laborales que tiene el año si tenemos datos diarios\n",
    "    sigma= table ['Daily Return'].std() *ggrt (252)\n",
    "    print ('Volatilidad {}' .format (gigma))\n",
    "    #Plazo hasta el vencimiento\n",
    "    T=((dates-date.today ()) .days) /365\n",
    "    print ('Días hasta el vencimiento {}'.format ( (dates-date.today () ) .days))\n",
    "    #Si la opción es de tipo Europeo, faplicamos Modelo Black Scholes, \n",
    "    # aplicación de la fórmula de valoración \n",
    "    if Tipo =='Europeo':\n",
    "        d1= (np. log (S0/X) + \n",
    "            (r - q + sigma **2/2) * T) / (sigma * np.sqrt (T))\n",
    "        d2= d1 - (sigma * np.sqrt (T))\n",
    "        print ('Modelo de valoración Black Scholes')\n",
    "        #Call\n",
    "        if Type=='Call':\n",
    "            call-(S0 * n.exp(-q*T) * ss.norm.cdf (d1)) - (x * n.exp(-r*T) * ss.norm.cdf (d2))\n",
    "            return 'Valor de la Opción {} '.format (call)\n",
    "        #Put \n",
    "        else:\n",
    "            puti=(x * n.exp(-r*T) * gs.norm.cdf (-d2)) - (S0 * np.exp(-q*T) * ss.norm.cdf (-d1))\n",
    "            return 'Valor de la Opción {} ' .format (put)\n",
    "    #Si la opción es de tipo Americano, aplicamos modelo Binomial \n",
    "    else:\n",
    "        print ('Modelo de valoración Binomial')\n",
    "        S= np. zeros ( (N+1,N+1), dtype='float')\n",
    "        P = пр-zers ( (N+1, N+1), dtype='float')\n",
    "        С =пр. zers ( (N+1, N+1), dtype='Eloat')\n",
    "        i,j = 0,0\n",
    "        #Parámetros del árbol binomial multiplicativo\n",
    "        dt = T/N\n",
    "        u = n.exp (sigma*np.sqrt (dt))\n",
    "        d = 1/u\n",
    "        alt = np.exp(-r*dt)\n",
    "        #Probabilidades de riesgo neutral\n",
    "        P = (np.exp ((r-q) *dt)-d) / (u-d)\n",
    "        Q = 1-p\n",
    "        S[0][0] = S0\n",
    "        #Inicializar todos los precios de los activos.\n",
    "        for i in range (N+1):\n",
    "            for j in range (i+1):\n",
    "                S[i][j]=S[0][0]*(u**j)*(d**(i-j))\n",
    "        #Inicializar los valores de las opciones al vencimiento.\n",
    "        for j in range (N+1):\n",
    "            if Type == 'Put':\n",
    "                P[N][j] = max (X-S[N][j],0)\n",
    "            else:\n",
    "                C[N][j] = max (S[N][j]-X,0)\n",
    "            for i in range (N-1,-1,-1):\n",
    "                for j in range (i+1):\n",
    "                    if Type=='Put':\n",
    "                        P[i][j]=max (alt*(p*P[i+1][j+1]+(1-p)*P[i+1][j]),\n",
    "                            X-S[i][j])\n",
    "                    else:\n",
    "                         C[i][j]=max (alt*(p*C[i+1][j+1]+(1-p)*C[i+1][j]),\n",
    "                            S[N][j]-x)\n",
    "        #Valor de las opciones de tipo put y call en la fecha de valoración.\n",
    "        if Type=='Put':\n",
    "            return 'Valor de la Opción {}'.format (P[0][0])\n",
    "        else:\n",
    "            return 'Valor de la Opción {}'.format (C[0][0])\n"
   ]
  }
 ],
 "metadata": {
  "kernelspec": {
   "display_name": "Python 3",
   "language": "python",
   "name": "python3"
  },
  "language_info": {
   "codemirror_mode": {
    "name": "ipython",
    "version": 3
   },
   "file_extension": ".py",
   "mimetype": "text/x-python",
   "name": "python",
   "nbconvert_exporter": "python",
   "pygments_lexer": "ipython3",
   "version": "3.8.5"
  }
 },
 "nbformat": 4,
 "nbformat_minor": 4
}
